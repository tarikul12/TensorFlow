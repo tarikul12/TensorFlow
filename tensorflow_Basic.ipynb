{
  "nbformat": 4,
  "nbformat_minor": 0,
  "metadata": {
    "colab": {
      "provenance": []
    },
    "kernelspec": {
      "name": "python3",
      "display_name": "Python 3"
    },
    "language_info": {
      "name": "python"
    }
  },
  "cells": [
    {
      "cell_type": "code",
      "source": [
        "import tensorflow as tf\n",
        "import os\n",
        "#initialization\n",
        "x =tf.constant(4,shape=(1,1),dtype=tf.float32) # 1*1 D matrix\n",
        "x =tf.constant([[1,2,3],[4,5,6]])# 2*3 matrix\n",
        "\n",
        "x=tf.ones((3,3))\n",
        "x=tf.zeros((2,3))\n",
        "x=tf.eye(3) #  identity matrix\n",
        "x=tf.random.normal((3,3), mean=0, stddev=1) #stddev=standard normal Distribution\n",
        "x=tf.random.uniform((1,3), minval=0, maxval=1)\n",
        "x =tf.range(9)\n",
        "x=tf.range(start=1,limit=10,delta=2)\n",
        "x=tf.cast(x,dtype=tf.float64) #tf.float(16,32,64) tf.int(8,16,32,64)\n",
        "print(x)"
      ],
      "metadata": {
        "colab": {
          "base_uri": "https://localhost:8080/"
        },
        "id": "ePKdNeRoZ7HP",
        "outputId": "c85919a9-b0cf-4f2f-c230-9402e115b962"
      },
      "execution_count": null,
      "outputs": [
        {
          "output_type": "stream",
          "name": "stdout",
          "text": [
            "tf.Tensor([1. 3. 5. 7. 9.], shape=(5,), dtype=float64)\n"
          ]
        }
      ]
    },
    {
      "cell_type": "code",
      "source": [
        "#Mathmethical Operation\n",
        "import tensorflow as tf\n",
        "\n",
        "x=tf.constant([1,2,3,4,5])\n",
        "y=tf.constant([10,12,13,14,15])\n",
        "\n",
        "z=tf.add(x,y)\n",
        "print(z)\n",
        "z=tf.subtract(x,y)\n",
        "print(z)\n",
        "z=tf.multiply(x,y)\n",
        "print(z)\n",
        "z=tf.divide(x,y)\n",
        "print(z)\n",
        "z=tf.tensordot(x,y,axes=1)\n",
        "print(z)"
      ],
      "metadata": {
        "colab": {
          "base_uri": "https://localhost:8080/"
        },
        "id": "ThRXSmxB_qlF",
        "outputId": "63fc7669-2bad-440c-a42a-c5d581de607d"
      },
      "execution_count": null,
      "outputs": [
        {
          "output_type": "stream",
          "name": "stdout",
          "text": [
            "tf.Tensor([11 14 16 18 20], shape=(5,), dtype=int32)\n",
            "tf.Tensor([ -9 -10 -10 -10 -10], shape=(5,), dtype=int32)\n",
            "tf.Tensor([10 24 39 56 75], shape=(5,), dtype=int32)\n",
            "tf.Tensor([0.1        0.16666667 0.23076923 0.28571429 0.33333333], shape=(5,), dtype=float64)\n"
          ]
        }
      ]
    },
    {
      "cell_type": "code",
      "source": [
        "#indexing\n",
        "import tensorflow as tf\n",
        "x=tf.constant([0,1,4,5,67,1,2,3,45,6])\n",
        "print(x[:])\n",
        "print(x[:-1])\n",
        "print(x[1:-1])\n",
        "print(x[1:3])\n",
        "\n",
        "x=tf.constant([[0,1],[2,3],[6,7]])\n",
        "print(x[0,:])"
      ],
      "metadata": {
        "colab": {
          "base_uri": "https://localhost:8080/"
        },
        "id": "A-BI-8J3Fw2M",
        "outputId": "5b61337d-191a-4b2a-836a-eb15038043d5"
      },
      "execution_count": null,
      "outputs": [
        {
          "output_type": "stream",
          "name": "stdout",
          "text": [
            "tf.Tensor([ 0  1  4  5 67  1  2  3 45  6], shape=(10,), dtype=int32)\n",
            "tf.Tensor([ 0  1  4  5 67  1  2  3 45], shape=(9,), dtype=int32)\n",
            "tf.Tensor([ 1  4  5 67  1  2  3 45], shape=(8,), dtype=int32)\n",
            "tf.Tensor([1 4], shape=(2,), dtype=int32)\n",
            "tf.Tensor([0 1], shape=(2,), dtype=int32)\n"
          ]
        }
      ]
    }
  ]
}